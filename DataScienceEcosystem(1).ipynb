{
 "cells": [
  {
   "cell_type": "markdown",
   "id": "3070323a-d753-42d3-967b-39adefcf56bb",
   "metadata": {},
   "source": [
    "# Data Science Tools and Ecosystem"
   ]
  },
  {
   "cell_type": "markdown",
   "id": "e02b1d37-d07a-453b-935e-5aab4547de99",
   "metadata": {},
   "source": [
    "In this notebook, Data Science Tools and Ecosystem are summarized"
   ]
  },
  {
   "cell_type": "markdown",
   "id": "4150c067-d44e-47ad-99e4-fbea33bef3b6",
   "metadata": {},
   "source": [
    "** Objectives:**\n",
    "\n",
    "List popular languages for Data Science\n",
    "\n",
    "+ Python\n",
    "+ R Language\n",
    "+ Java script\n",
    "+ SQL"
   ]
  },
  {
   "cell_type": "markdown",
   "id": "cd76e74d-89a3-4caf-aef4-656e8747d381",
   "metadata": {},
   "source": [
    "Some of the popular languages that Data Scientists use are:\n",
    "1. R Language\n",
    "2. Python\n",
    "3. SQL"
   ]
  },
  {
   "cell_type": "markdown",
   "id": "171ab47c-4d04-42e4-8972-07fdcbb1f05c",
   "metadata": {},
   "source": [
    "Some of the commonly used libraries used by Data Scientists include:\n",
    "1. Numpy\n",
    "2. Matplotlib\n",
    "3. Pandas\n",
    "4. Scikit learn"
   ]
  },
  {
   "cell_type": "markdown",
   "id": "a1fac977-09db-4f30-955d-16d368003e1a",
   "metadata": {},
   "source": [
    "| Data Science Tools |\n",
    "|--------------------|\n",
    "| Jypyter Notebooks  |\n",
    "| R Studio           |\n",
    "| Apache Spark       |"
   ]
  },
  {
   "cell_type": "markdown",
   "id": "d77e6e8e-0cdc-48c0-84da-ab2fb348501e",
   "metadata": {},
   "source": [
    "### Below are a few examples of evaluating arithmetic expressions in Python"
   ]
  },
  {
   "cell_type": "code",
   "execution_count": 1,
   "id": "68dbb14b-e90f-46cf-acf5-d5e455ce9b2c",
   "metadata": {
    "tags": []
   },
   "outputs": [
    {
     "data": {
      "text/plain": [
       "17"
      ]
     },
     "execution_count": 1,
     "metadata": {},
     "output_type": "execute_result"
    }
   ],
   "source": [
    "(3*4)+5"
   ]
  },
  {
   "cell_type": "code",
   "execution_count": 2,
   "id": "081fc4ac-c3d2-49f7-8766-95af861e3258",
   "metadata": {
    "tags": []
   },
   "outputs": [
    {
     "data": {
      "text/plain": [
       "3.3333333333333335"
      ]
     },
     "execution_count": 2,
     "metadata": {},
     "output_type": "execute_result"
    }
   ],
   "source": [
    "# This will convert 200 minutes to hours by diving by 60\n",
    "200/60"
   ]
  },
  {
   "cell_type": "markdown",
   "id": "70232a3b-2f34-489b-88df-8631c1960cab",
   "metadata": {},
   "source": [
    "## Author\n",
    "Kelly Muchangi"
   ]
  },
  {
   "cell_type": "code",
   "execution_count": null,
   "id": "d7a6d135-a1f5-4384-be4d-c8453ba444ae",
   "metadata": {},
   "outputs": [],
   "source": []
  }
 ],
 "metadata": {
  "kernelspec": {
   "display_name": "Python",
   "language": "python",
   "name": "conda-env-python-py"
  },
  "language_info": {
   "codemirror_mode": {
    "name": "ipython",
    "version": 3
   },
   "file_extension": ".py",
   "mimetype": "text/x-python",
   "name": "python",
   "nbconvert_exporter": "python",
   "pygments_lexer": "ipython3",
   "version": "3.7.12"
  }
 },
 "nbformat": 4,
 "nbformat_minor": 5
}
